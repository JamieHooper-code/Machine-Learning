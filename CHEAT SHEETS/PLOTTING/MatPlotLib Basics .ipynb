{
 "cells": [
  {
   "cell_type": "markdown",
   "id": "f999ff63",
   "metadata": {},
   "source": [
    "# BASICS / LINE PLOT"
   ]
  },
  {
   "cell_type": "code",
   "execution_count": null,
   "id": "8a5e23ca",
   "metadata": {},
   "outputs": [],
   "source": [
    "from matplotlib import pyplot as plt\n",
    "\n",
    "plt.style.use('ggplot')\n",
    "# print(plt.style.available)\n",
    "\n",
    "ages_x = [18, 19, 20, 21, 22, 23, 24, 25, 26, 27, 28, 29, 30, 31, 32, 33, 34, 35,\n",
    "          36, 37, 38, 39, 40, 41, 42, 43, 44, 45, 46, 47, 48, 49, 50, 51, 52, 53, 54, 55]\n",
    "\n",
    "py_dev_y = [20046, 17100, 20000, 24744, 30500, 37732, 41247, 45372, 48876, 53850, 57287, 63016, 65998, 70003, 70000, 71496, 75370, 83640, 84666,\n",
    "            84392, 77254, 85000, 87038, 91991, 100000, 94796, 97962, 93302, 99240, 102736, 112285, 100771, 104708, 108423, 101407, 112542, 122870, 120000]\n",
    "plt.plot(ages_x, py_dev_y, label='Python')\n",
    "\n",
    "js_dev_y = [16446, 16791, 18942, 21780, 25704, 29000, 34372, 37810, 43515, 46823, 49293, 53437, 56373, 62375, 66674, 68745, 68746, 74583, 79000,\n",
    "            78508, 79996, 80403, 83820, 88833, 91660, 87892, 96243, 90000, 99313, 91660, 102264, 100000, 100000, 91660, 99240, 108000, 105000, 104000]\n",
    "plt.plot(ages_x, js_dev_y, label='JavaScript')\n",
    "\n",
    "dev_y = [17784, 16500, 18012, 20628, 25206, 30252, 34368, 38496, 42000, 46752, 49320, 53200, 56000, 62316, 64928, 67317, 68748, 73752, 77232,\n",
    "         78000, 78508, 79536, 82488, 88935, 90000, 90056, 95000, 90000, 91633, 91660, 98150, 98964, 100000, 98988, 100000, 108923, 105000, 103117]\n",
    "plt.plot(ages_x, dev_y, color='#444444', linestyle='--', label='All Devs')\n",
    "\n",
    "plt.xlabel('Ages')\n",
    "plt.ylabel('Median Salary (USD)')\n",
    "plt.title('Median Salary (USD) by Age')\n",
    "\n",
    "plt.legend()\n",
    "\n",
    "# plt.grid(True)\n",
    "\n",
    "plt.tight_layout()\n",
    "\n",
    "plt.savefig('plot.png')\n",
    "\n",
    "plt.show()"
   ]
  },
  {
   "cell_type": "markdown",
   "id": "a5347e47",
   "metadata": {},
   "source": [
    "# HISTOGRAM"
   ]
  },
  {
   "cell_type": "code",
   "execution_count": null,
   "id": "ef23eae7",
   "metadata": {},
   "outputs": [],
   "source": [
    "import pandas as pd\n",
    "from matplotlib import pyplot as plt\n",
    "\n",
    "plt.style.use('fivethirtyeight')\n",
    "\n",
    "data = pd.read_csv('data.csv')\n",
    "ids = data['Responder_id']\n",
    "ages = data['Age']\n",
    "\n",
    "bins = [10, 20, 30, 40, 50, 60, 70, 80, 90, 100]\n",
    "\n",
    "# plt.hist(ages, bins=bins, edgecolor='black', log=True)\n",
    "plt.hist(ages, bins=bins, edgecolor='black')\n",
    "\n",
    "median_age = 29\n",
    "color = '#fc4f30'\n",
    "\n",
    "plt.axvline(median_age, color=color, label='Age Median', linewidth=2)\n",
    "\n",
    "plt.legend()\n",
    "\n",
    "plt.title('Ages of Respondents')\n",
    "plt.xlabel('Ages')\n",
    "plt.ylabel('Total Respondents')\n",
    "\n",
    "plt.tight_layout()\n",
    "\n",
    "plt.show()"
   ]
  },
  {
   "cell_type": "markdown",
   "id": "5f4a12db",
   "metadata": {},
   "source": [
    "# TRIPLE BAR CHART"
   ]
  },
  {
   "cell_type": "code",
   "execution_count": null,
   "id": "2aa60a2c",
   "metadata": {},
   "outputs": [],
   "source": [
    "# import matplotlib.pyplot as plt\n",
    "import numpy as np\n",
    "\n",
    "# Prepare data\n",
    "categories = ['A', 'B', 'C', 'D']\n",
    "bar1_values = [3, 5, 7, 9]\n",
    "bar2_values = [4, 2, 6, 8]\n",
    "bar3_values = [5, 8, 2, 6]\n",
    "\n",
    "# Create bar chart\n",
    "x = np.arange(len(categories))  \n",
    "width = 0.25  \n",
    "\n",
    "fig, ax = plt.subplots()\n",
    "\n",
    "rects1 = ax.bar(x - width, bar1_values, width, label='Bar 1')\n",
    "rects2 = ax.bar(x, bar2_values, width, label='Bar 2')\n",
    "rects3 = ax.bar(x + width, bar3_values, width, label='Bar 3')\n",
    "\n",
    "\n",
    "# Configure the plot\n",
    "ax.set_ylabel('Values')\n",
    "ax.set_title('Triple bar chart example')\n",
    "ax.set_xticks(x)\n",
    "ax.set_xticklabels(categories)\n",
    "ax.legend()\n",
    "\n",
    "# Display the plot\n",
    "plt.show()\n"
   ]
  },
  {
   "cell_type": "markdown",
   "id": "6432d153",
   "metadata": {},
   "source": [
    "# PIE CHART"
   ]
  },
  {
   "cell_type": "code",
   "execution_count": null,
   "id": "4259f9a5",
   "metadata": {},
   "outputs": [],
   "source": [
    "from matplotlib import pyplot as plt\n",
    "\n",
    "plt.style.use(\"fivethirtyeight\")\n",
    "\n",
    "slices = [59219, 55466, 47544, 36443, 35917]\n",
    "labels = ['JavaScript', 'HTML/CSS', 'SQL', 'Python', 'Java']\n",
    "explode = [0, 0, 0, 0.1, 0]\n",
    "\n",
    "plt.pie(slices, labels=labels, explode=explode, shadow=True,\n",
    "        startangle=90, autopct='%1.1f%%',\n",
    "        wedgeprops={'edgecolor': 'black'})\n",
    "\n",
    "plt.title(\"My Awesome Pie Chart\")\n",
    "plt.tight_layout()\n",
    "plt.show()"
   ]
  },
  {
   "cell_type": "markdown",
   "id": "2b0b7238",
   "metadata": {},
   "source": [
    "# STACK PLOT"
   ]
  },
  {
   "cell_type": "code",
   "execution_count": null,
   "id": "484d482a",
   "metadata": {},
   "outputs": [],
   "source": [
    "from matplotlib import pyplot as plt\n",
    "\n",
    "plt.style.use(\"fivethirtyeight\")\n",
    "\n",
    "\n",
    "minutes = [1, 2, 3, 4, 5, 6, 7, 8, 9]\n",
    "\n",
    "player1 = [8, 6, 5, 5, 4, 2, 1, 1, 0]\n",
    "player2 = [0, 1, 2, 2, 2, 4, 4, 4, 4]\n",
    "player3 = [0, 1, 1, 1, 2, 2, 3, 3, 4]\n",
    "\n",
    "labels = ['player1', 'player2', 'player3']\n",
    "colors = ['#6d904f', '#fc4f30', '#008fd5']\n",
    "\n",
    "plt.stackplot(minutes, player1, player2, player3, labels=labels, colors=colors)\n",
    "\n",
    "plt.legend(loc=(0.07, 0.05))\n",
    "\n",
    "plt.title(\"My Awesome Stack Plot\")\n",
    "plt.tight_layout()\n",
    "plt.show()\n",
    "\n",
    "# Colors:\n",
    "# Blue = #008fd5\n",
    "# Red = #fc4f30\n",
    "# Yellow = #e5ae37\n",
    "# Green = #6d904f"
   ]
  },
  {
   "cell_type": "markdown",
   "id": "fc5a3030",
   "metadata": {},
   "source": [
    "# FILL BETWEEN LINE PLOT / ADVANCED LINE PLOT"
   ]
  },
  {
   "cell_type": "code",
   "execution_count": null,
   "id": "ae6ebec8",
   "metadata": {},
   "outputs": [],
   "source": [
    "import pandas as pd\n",
    "from matplotlib import pyplot as plt\n",
    "\n",
    "data = pd.read_csv('data.csv')\n",
    "ages = data['Age']\n",
    "dev_salaries = data['All_Devs']\n",
    "py_salaries = data['Python']\n",
    "js_salaries = data['JavaScript']\n",
    "\n",
    "plt.plot(ages, dev_salaries, color='#444444',\n",
    "         linestyle='--', label='All Devs')\n",
    "\n",
    "plt.plot(ages, py_salaries, label='Python')\n",
    "\n",
    "overall_median = 57287\n",
    "\n",
    "plt.fill_between(ages, py_salaries, dev_salaries,\n",
    "                 where=(py_salaries > dev_salaries),\n",
    "                 interpolate=True, alpha=0.25, label='Above Avg')\n",
    "\n",
    "plt.fill_between(ages, py_salaries, dev_salaries,\n",
    "                 where=(py_salaries <= dev_salaries),\n",
    "                 interpolate=True, color='red', alpha=0.25, label='Below Avg')\n",
    "\n",
    "plt.legend()\n",
    "\n",
    "plt.title('Median Salary (USD) by Age')\n",
    "plt.xlabel('Ages')\n",
    "plt.ylabel('Median Salary (USD)')\n",
    "\n",
    "plt.tight_layout()\n",
    "\n",
    "plt.show()"
   ]
  },
  {
   "cell_type": "markdown",
   "id": "04d45d04",
   "metadata": {},
   "source": [
    "# SCATTERPLOT / COLORBAR / "
   ]
  },
  {
   "cell_type": "code",
   "execution_count": null,
   "id": "5d1cbbba",
   "metadata": {},
   "outputs": [],
   "source": [
    "import pandas as pd\n",
    "from matplotlib import pyplot as plt\n",
    "\n",
    "plt.style.use('seaborn')\n",
    "\n",
    "data = pd.read_csv('2019-05-31-data.csv')\n",
    "view_count = data['view_count']\n",
    "likes = data['likes']\n",
    "ratio = data['ratio']\n",
    "\n",
    "plt.scatter(view_count, likes, c=ratio, cmap='summer',\n",
    "            edgecolor='black', linewidth=1, alpha=0.75)\n",
    "\n",
    "cbar = plt.colorbar()\n",
    "cbar.set_label('Like/Dislike Ratio')\n",
    "\n",
    "plt.xscale('log')\n",
    "plt.yscale('log')\n",
    "\n",
    "plt.title('Trending YouTube Videos')\n",
    "plt.xlabel('View Count')\n",
    "plt.ylabel('Total Likes')\n",
    "\n",
    "plt.tight_layout()\n",
    "\n",
    "plt.show()"
   ]
  },
  {
   "cell_type": "markdown",
   "id": "e14fcbff",
   "metadata": {},
   "source": [
    "# TIMESERIES ANALYSIS"
   ]
  },
  {
   "cell_type": "code",
   "execution_count": null,
   "id": "aab11c27",
   "metadata": {},
   "outputs": [],
   "source": [
    "import pandas as pd\n",
    "from datetime import datetime, timedelta\n",
    "from matplotlib import pyplot as plt\n",
    "from matplotlib import dates as mpl_dates\n",
    "\n",
    "plt.style.use('seaborn')\n",
    "\n",
    "data = pd.read_csv('data.csv')\n",
    "\n",
    "data['Date'] = pd.to_datetime(data['Date'])\n",
    "data.sort_values('Date', inplace=True)\n",
    "\n",
    "price_date = data['Date']\n",
    "price_close = data['Close']\n",
    "\n",
    "plt.plot_date(price_date, price_close, linestyle='solid')\n",
    "\n",
    "plt.gcf().autofmt_xdate()\n",
    "\n",
    "plt.title('Bitcoin Prices')\n",
    "plt.xlabel('Date')\n",
    "plt.ylabel('Closing Price')\n",
    "\n",
    "plt.tight_layout()\n",
    "\n",
    "plt.show()"
   ]
  },
  {
   "cell_type": "markdown",
   "id": "12902f22",
   "metadata": {},
   "source": [
    "# LIVE TIMESERIES ANALYSIS DATA"
   ]
  },
  {
   "cell_type": "code",
   "execution_count": null,
   "id": "485290f1",
   "metadata": {},
   "outputs": [],
   "source": [
    "\n",
    "import random\n",
    "from itertools import count\n",
    "import pandas as pd\n",
    "import matplotlib.pyplot as plt\n",
    "from matplotlib.animation import FuncAnimation\n",
    "\n",
    "plt.style.use('fivethirtyeight')\n",
    "\n",
    "x_vals = []\n",
    "y_vals = []\n",
    "\n",
    "index = count()\n",
    "\n",
    "\n",
    "def animate(i):\n",
    "    data = pd.read_csv('data.csv')\n",
    "    x = data['x_value']\n",
    "    y1 = data['total_1']\n",
    "    y2 = data['total_2']\n",
    "\n",
    "    plt.cla()\n",
    "\n",
    "    plt.plot(x, y1, label='Channel 1')\n",
    "    plt.plot(x, y2, label='Channel 2')\n",
    "\n",
    "    plt.legend(loc='upper left')\n",
    "    plt.tight_layout()\n",
    "\n",
    "\n",
    "ani = FuncAnimation(plt.gcf(), animate, interval=1000)\n",
    "\n",
    "plt.tight_layout()\n",
    "plt.show()\n"
   ]
  }
 ],
 "metadata": {
  "kernelspec": {
   "display_name": "Python 3 (ipykernel)",
   "language": "python",
   "name": "python3"
  },
  "language_info": {
   "codemirror_mode": {
    "name": "ipython",
    "version": 3
   },
   "file_extension": ".py",
   "mimetype": "text/x-python",
   "name": "python",
   "nbconvert_exporter": "python",
   "pygments_lexer": "ipython3",
   "version": "3.11.4"
  }
 },
 "nbformat": 4,
 "nbformat_minor": 5
}
