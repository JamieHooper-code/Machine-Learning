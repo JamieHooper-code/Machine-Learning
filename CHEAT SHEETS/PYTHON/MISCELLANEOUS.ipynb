{
 "cells": [
  {
   "cell_type": "markdown",
   "id": "58f562a0",
   "metadata": {},
   "source": [
    "# LIST COMPREHENSIONS AND DICTIONARY COMPREHENSIONS"
   ]
  },
  {
   "cell_type": "code",
   "execution_count": null,
   "id": "e2f2e38d",
   "metadata": {},
   "outputs": [],
   "source": [
    "# 1. Basic list comprehension\n",
    "squared = [x**2 for x in range(10)]\n",
    "\n",
    "# 2. List comprehension with condition\n",
    "evens_squared = [x**2 for x in range(10) if x % 2 == 0]\n",
    "\n",
    "# 3. Nested list comprehension\n",
    "matrix = [[1, 2, 3], [4, 5, 6], [7, 8, 9]]\n",
    "flattened = [item for sublist in matrix for item in sublist]\n",
    "\n",
    "# 4. Using list comprehension with functions\n",
    "def is_prime(n):\n",
    "    if n < 2:\n",
    "        return False\n",
    "    for i in range(2, int(n**0.5) + 1):\n",
    "        if n % i == 0:\n",
    "            return False\n",
    "    return True\n",
    "\n",
    "primes = [x for x in range(2, 50) if is_prime(x)]\n",
    "\n",
    "# Basic format:\n",
    "# {key_expression: value_expression for item in iterable if condition}\n",
    "\n",
    "# 1. Basic dictionary comprehension\n",
    "squared_dict = {x: x**2 for x in range(5)}\n",
    "\n",
    "# 2. Dictionary comprehension with condition\n",
    "evens_squared_dict = {x: x**2 for x in range(10) if x % 2 == 0}\n",
    "\n",
    "# 3. Swap keys and values in a dictionary\n",
    "original_dict = {\"a\": 1, \"b\": 2, \"c\": 3}\n",
    "swapped_dict = {v: k for k, v in original_dict.items()}\n",
    "\n",
    "# 4. Using dictionary comprehension with functions\n",
    "word_lengths = {word: len(word) for word in [\"apple\", \"banana\", \"cherry\"]}"
   ]
  }
 ],
 "metadata": {
  "kernelspec": {
   "display_name": "Python 3 (ipykernel)",
   "language": "python",
   "name": "python3"
  },
  "language_info": {
   "codemirror_mode": {
    "name": "ipython",
    "version": 3
   },
   "file_extension": ".py",
   "mimetype": "text/x-python",
   "name": "python",
   "nbconvert_exporter": "python",
   "pygments_lexer": "ipython3",
   "version": "3.11.4"
  }
 },
 "nbformat": 4,
 "nbformat_minor": 5
}
