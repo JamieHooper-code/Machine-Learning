{
 "cells": [
  {
   "cell_type": "code",
   "execution_count": null,
   "id": "054c7880",
   "metadata": {},
   "outputs": [],
   "source": [
    "import csv\n",
    "import numpy as np\n",
    "import pandas as pd\n",
    "from collections import Counter\n",
    "from matplotlib import pyplot as plt\n",
    "\n",
    "plt.style.use(\"fivethirtyeight\")\n",
    "\n",
    "data = pd.read_csv('data.csv')\n",
    "ids = data['Responder_id']\n",
    "lang_responses = data['LanguagesWorkedWith']\n",
    "\n",
    "language_counter = Counter()\n",
    "\n",
    "for response in lang_responses:\n",
    "    language_counter.update(response.split(';'))\n",
    "\n",
    "languages = []\n",
    "popularity = []\n",
    "\n",
    "for item in language_counter.most_common(15):\n",
    "    languages.append(item[0])\n",
    "    popularity.append(item[1])\n",
    "\n",
    "languages.reverse()\n",
    "popularity.reverse()\n",
    "\n",
    "plt.barh(languages, popularity)\n",
    "\n",
    "plt.title(\"Most Popular Languages\")\n",
    "# plt.ylabel(\"Programming Languages\")\n",
    "plt.xlabel(\"Number of People Who Use\")\n",
    "\n",
    "plt.tight_layout()\n",
    "\n",
    "plt.show()"
   ]
  }
 ],
 "metadata": {
  "kernelspec": {
   "display_name": "Python 3 (ipykernel)",
   "language": "python",
   "name": "python3"
  },
  "language_info": {
   "codemirror_mode": {
    "name": "ipython",
    "version": 3
   },
   "file_extension": ".py",
   "mimetype": "text/x-python",
   "name": "python",
   "nbconvert_exporter": "python",
   "pygments_lexer": "ipython3",
   "version": "3.11.4"
  }
 },
 "nbformat": 4,
 "nbformat_minor": 5
}
